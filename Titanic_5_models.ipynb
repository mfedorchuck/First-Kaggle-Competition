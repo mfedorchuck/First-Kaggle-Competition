{
 "cells": [
  {
   "cell_type": "markdown",
   "metadata": {},
   "source": [
    "# Applied Data Science Solutions for first Kaggle competition.\n",
    "This is an example of how to prepare data and build prediction models using such ML models as Linear Regression, Logistic Regression, LinearSVC, Full Dence NN and Convolutional Neural Network. <br>\n",
    "Dataset: Titanic dataset (https://www.kaggle.com/c/titanic/data)"
   ]
  },
  {
   "cell_type": "markdown",
   "metadata": {},
   "source": [
    "### Classifier evaluation\n",
    "Some code (will be) dedicated to the model evaluation in the ML (and other classification algorithms)<br>\n",
    "related topics: <br>\n",
    "https://sebastianraschka.com/blog/2016/model-evaluation-selection-part1.html <br>\n",
    "https://towardsdatascience.com/cross-validation-in-machine-learning-72924a69872f <br>\n",
    "Binary Classifier Evaluation Without Ground Truth - https://hal.inria.fr/hal-01680358"
   ]
  },
  {
   "cell_type": "markdown",
   "metadata": {},
   "source": [
    "## **Import modules and libraries**"
   ]
  },
  {
   "cell_type": "code",
   "execution_count": 1,
   "metadata": {},
   "outputs": [],
   "source": [
    "# for data manipulations\n",
    "import pandas as pd\n",
    "import numpy as np\n",
    "from sklearn.model_selection import train_test_split\n",
    "\n",
    "# for data visualization\n",
    "import seaborn as sns\n",
    "import matplotlib.pyplot as plt\n",
    "%matplotlib inline \n",
    "\n",
    "# for Machine Learning operations\n",
    "from sklearn.linear_model import LogisticRegression\n",
    "#from sklearn.linear_model import Perceptron\n",
    "#from sklearn.linear_model import SGDClassifier\n",
    "\n",
    "from sklearn.svm import SVC#, LinearSVC\n",
    "#from sklearn.pipeline import Pipeline\n",
    "from sklearn.ensemble import RandomForestClassifier\n",
    "from sklearn.neighbors import KNeighborsClassifier\n",
    "#from sklearn.naive_bayes import GaussianNB\n",
    "#from sklearn.tree import DecisionTreeClassifier\n",
    "\n",
    "from sklearn import metrics"
   ]
  },
  {
   "cell_type": "markdown",
   "metadata": {},
   "source": [
    "## ** Import Titanic dataset **"
   ]
  },
  {
   "cell_type": "code",
   "execution_count": 2,
   "metadata": {
    "scrolled": true
   },
   "outputs": [
    {
     "name": "stdout",
     "output_type": "stream",
     "text": [
      "(891, 9) (418, 8) \n",
      "\n",
      " How the input data looks like:\n"
     ]
    },
    {
     "data": {
      "text/html": [
       "<div>\n",
       "<style scoped>\n",
       "    .dataframe tbody tr th:only-of-type {\n",
       "        vertical-align: middle;\n",
       "    }\n",
       "\n",
       "    .dataframe tbody tr th {\n",
       "        vertical-align: top;\n",
       "    }\n",
       "\n",
       "    .dataframe thead th {\n",
       "        text-align: right;\n",
       "    }\n",
       "</style>\n",
       "<table border=\"1\" class=\"dataframe\">\n",
       "  <thead>\n",
       "    <tr style=\"text-align: right;\">\n",
       "      <th></th>\n",
       "      <th>PassengerId</th>\n",
       "      <th>Pclass</th>\n",
       "      <th>Sex</th>\n",
       "      <th>Age</th>\n",
       "      <th>SibSp</th>\n",
       "      <th>Parch</th>\n",
       "      <th>Fare</th>\n",
       "      <th>Embarked</th>\n",
       "      <th>Survived</th>\n",
       "    </tr>\n",
       "  </thead>\n",
       "  <tbody>\n",
       "    <tr>\n",
       "      <th>0</th>\n",
       "      <td>1</td>\n",
       "      <td>3</td>\n",
       "      <td>male</td>\n",
       "      <td>22.0</td>\n",
       "      <td>1</td>\n",
       "      <td>0</td>\n",
       "      <td>7.2500</td>\n",
       "      <td>S</td>\n",
       "      <td>0</td>\n",
       "    </tr>\n",
       "    <tr>\n",
       "      <th>1</th>\n",
       "      <td>2</td>\n",
       "      <td>1</td>\n",
       "      <td>female</td>\n",
       "      <td>38.0</td>\n",
       "      <td>1</td>\n",
       "      <td>0</td>\n",
       "      <td>71.2833</td>\n",
       "      <td>C</td>\n",
       "      <td>1</td>\n",
       "    </tr>\n",
       "    <tr>\n",
       "      <th>2</th>\n",
       "      <td>3</td>\n",
       "      <td>3</td>\n",
       "      <td>female</td>\n",
       "      <td>26.0</td>\n",
       "      <td>0</td>\n",
       "      <td>0</td>\n",
       "      <td>7925.0000</td>\n",
       "      <td>S</td>\n",
       "      <td>1</td>\n",
       "    </tr>\n",
       "    <tr>\n",
       "      <th>3</th>\n",
       "      <td>4</td>\n",
       "      <td>1</td>\n",
       "      <td>female</td>\n",
       "      <td>35.0</td>\n",
       "      <td>1</td>\n",
       "      <td>0</td>\n",
       "      <td>53.1000</td>\n",
       "      <td>S</td>\n",
       "      <td>1</td>\n",
       "    </tr>\n",
       "    <tr>\n",
       "      <th>4</th>\n",
       "      <td>5</td>\n",
       "      <td>3</td>\n",
       "      <td>male</td>\n",
       "      <td>35.0</td>\n",
       "      <td>0</td>\n",
       "      <td>0</td>\n",
       "      <td>8.0500</td>\n",
       "      <td>S</td>\n",
       "      <td>0</td>\n",
       "    </tr>\n",
       "  </tbody>\n",
       "</table>\n",
       "</div>"
      ],
      "text/plain": [
       "   PassengerId  Pclass     Sex   Age  SibSp  Parch       Fare Embarked  \\\n",
       "0            1       3    male  22.0      1      0     7.2500        S   \n",
       "1            2       1  female  38.0      1      0    71.2833        C   \n",
       "2            3       3  female  26.0      0      0  7925.0000        S   \n",
       "3            4       1  female  35.0      1      0    53.1000        S   \n",
       "4            5       3    male  35.0      0      0     8.0500        S   \n",
       "\n",
       "   Survived  \n",
       "0         0  \n",
       "1         1  \n",
       "2         1  \n",
       "3         1  \n",
       "4         0  "
      ]
     },
     "execution_count": 2,
     "metadata": {},
     "output_type": "execute_result"
    }
   ],
   "source": [
    "# import data\n",
    "train = pd.read_csv('data/train_titanic.csv')\n",
    "test = pd.read_csv('data/test_titanic.csv')\n",
    "\n",
    "# check number of rows & columns\n",
    "print(train.shape, test.shape, '\\n\\n How the input data looks like:')\n",
    "train.head()"
   ]
  },
  {
   "cell_type": "markdown",
   "metadata": {},
   "source": [
    "## ** 1. Data Pre-Processing **\n",
    "\n",
    "1.1 Let's transform categorical values 'Sex' and 'Embarked' to the numerical:"
   ]
  },
  {
   "cell_type": "code",
   "execution_count": 3,
   "metadata": {},
   "outputs": [],
   "source": [
    "import warnings\n",
    "warnings.filterwarnings(\"ignore\")\n",
    "\n",
    "y = train.Survived; train = train.drop('Survived', axis=1)\n",
    "#combine = pd.concat([train, test])\n",
    "\n",
    "cleanup_val = {\"Sex\":     {\"male\": 1, \"female\": 0},\n",
    "              \"Embarked\": {\"S\": 0, \"C\": 1, \"Q\": 2}}\n",
    "test.replace(cleanup_val, inplace = True)\n",
    "train.replace(cleanup_val, inplace = True)"
   ]
  },
  {
   "cell_type": "markdown",
   "metadata": {},
   "source": [
    "1.2 Fill missed values in 'Age', 'Fare' and 'Embarked' columns:"
   ]
  },
  {
   "cell_type": "code",
   "execution_count": 4,
   "metadata": {},
   "outputs": [],
   "source": [
    "combine = [test, train]\n",
    "for dataframe in combine:\n",
    "    dataframe.Age = dataframe.Age.fillna(value=np.mean(dataframe.Age))\n",
    "    dataframe.Embarked = dataframe.Embarked.fillna(value=0)\n",
    "    dataframe.Fare = dataframe.Fare.fillna(value=np.mean(dataframe.Fare))\n",
    "    #print(dataframe.info())"
   ]
  },
  {
   "cell_type": "markdown",
   "metadata": {},
   "source": [
    "1.3 Separate 'Age' and 'Fare' values on bands.\n",
    "\n",
    "In case we have very little set of data (and it is our case) - we can automatically use Grid Search and find the best parameters (best number of bands for the float variables) according to the model prediction accuracy (on the validation or test set).\n",
    "\n",
    "Now I think it is reasonable to choose 6 bands for both parameters - 'Age' and 'Fare' (I checked distribution of the parameter 'Survived'). But I can be wrong in that.\n"
   ]
  },
  {
   "cell_type": "code",
   "execution_count": 5,
   "metadata": {},
   "outputs": [],
   "source": [
    "train['FareBand'] = pd.qcut(train['Fare'], 6)\n",
    "train['AgeBand'] = pd.qcut(train['Age'], 6)\n",
    "#print('Fare Bands: ', train.FareBand.unique().sort_values(ascending=True),'\\n\\n')\n",
    "#print('Age Bands: ', train.AgeBand.unique().sort_values(ascending=True))"
   ]
  },
  {
   "cell_type": "code",
   "execution_count": 6,
   "metadata": {},
   "outputs": [
    {
     "data": {
      "text/html": [
       "<div>\n",
       "<style scoped>\n",
       "    .dataframe tbody tr th:only-of-type {\n",
       "        vertical-align: middle;\n",
       "    }\n",
       "\n",
       "    .dataframe tbody tr th {\n",
       "        vertical-align: top;\n",
       "    }\n",
       "\n",
       "    .dataframe thead th {\n",
       "        text-align: right;\n",
       "    }\n",
       "</style>\n",
       "<table border=\"1\" class=\"dataframe\">\n",
       "  <thead>\n",
       "    <tr style=\"text-align: right;\">\n",
       "      <th></th>\n",
       "      <th>PassengerId</th>\n",
       "      <th>Pclass</th>\n",
       "      <th>Sex</th>\n",
       "      <th>Age</th>\n",
       "      <th>SibSp</th>\n",
       "      <th>Parch</th>\n",
       "      <th>Fare</th>\n",
       "      <th>Embarked</th>\n",
       "      <th>FareBand</th>\n",
       "      <th>AgeBand</th>\n",
       "    </tr>\n",
       "  </thead>\n",
       "  <tbody>\n",
       "    <tr>\n",
       "      <th>0</th>\n",
       "      <td>1</td>\n",
       "      <td>3</td>\n",
       "      <td>1</td>\n",
       "      <td>1.0</td>\n",
       "      <td>1</td>\n",
       "      <td>0</td>\n",
       "      <td>0.0</td>\n",
       "      <td>0.0</td>\n",
       "      <td>(-0.001, 7.89]</td>\n",
       "      <td>(19.0, 25.0]</td>\n",
       "    </tr>\n",
       "    <tr>\n",
       "      <th>1</th>\n",
       "      <td>2</td>\n",
       "      <td>1</td>\n",
       "      <td>0</td>\n",
       "      <td>4.0</td>\n",
       "      <td>1</td>\n",
       "      <td>0</td>\n",
       "      <td>4.0</td>\n",
       "      <td>1.0</td>\n",
       "      <td>(33.0, 110.222]</td>\n",
       "      <td>(31.0, 40.5]</td>\n",
       "    </tr>\n",
       "    <tr>\n",
       "      <th>2</th>\n",
       "      <td>3</td>\n",
       "      <td>3</td>\n",
       "      <td>0</td>\n",
       "      <td>2.0</td>\n",
       "      <td>0</td>\n",
       "      <td>0</td>\n",
       "      <td>5.0</td>\n",
       "      <td>0.0</td>\n",
       "      <td>(110.222, 262375.0]</td>\n",
       "      <td>(25.0, 29.699]</td>\n",
       "    </tr>\n",
       "    <tr>\n",
       "      <th>3</th>\n",
       "      <td>4</td>\n",
       "      <td>1</td>\n",
       "      <td>0</td>\n",
       "      <td>4.0</td>\n",
       "      <td>1</td>\n",
       "      <td>0</td>\n",
       "      <td>4.0</td>\n",
       "      <td>0.0</td>\n",
       "      <td>(33.0, 110.222]</td>\n",
       "      <td>(31.0, 40.5]</td>\n",
       "    </tr>\n",
       "    <tr>\n",
       "      <th>4</th>\n",
       "      <td>5</td>\n",
       "      <td>3</td>\n",
       "      <td>1</td>\n",
       "      <td>4.0</td>\n",
       "      <td>0</td>\n",
       "      <td>0</td>\n",
       "      <td>1.0</td>\n",
       "      <td>0.0</td>\n",
       "      <td>(7.89, 10.5]</td>\n",
       "      <td>(31.0, 40.5]</td>\n",
       "    </tr>\n",
       "  </tbody>\n",
       "</table>\n",
       "</div>"
      ],
      "text/plain": [
       "   PassengerId  Pclass  Sex  Age  SibSp  Parch  Fare  Embarked  \\\n",
       "0            1       3    1  1.0      1      0   0.0       0.0   \n",
       "1            2       1    0  4.0      1      0   4.0       1.0   \n",
       "2            3       3    0  2.0      0      0   5.0       0.0   \n",
       "3            4       1    0  4.0      1      0   4.0       0.0   \n",
       "4            5       3    1  4.0      0      0   1.0       0.0   \n",
       "\n",
       "              FareBand         AgeBand  \n",
       "0       (-0.001, 7.89]    (19.0, 25.0]  \n",
       "1      (33.0, 110.222]    (31.0, 40.5]  \n",
       "2  (110.222, 262375.0]  (25.0, 29.699]  \n",
       "3      (33.0, 110.222]    (31.0, 40.5]  \n",
       "4         (7.89, 10.5]    (31.0, 40.5]  "
      ]
     },
     "execution_count": 6,
     "metadata": {},
     "output_type": "execute_result"
    }
   ],
   "source": [
    "for dataset in combine:    \n",
    "    dataset.loc[ dataset['Age'] <= 18, 'Age'] = 0\n",
    "    dataset.loc[(dataset['Age'] > 18) & (dataset['Age'] <= 23), 'Age'] = 1\n",
    "    dataset.loc[(dataset['Age'] > 23) & (dataset['Age'] <= 28), 'Age'] = 2\n",
    "    dataset.loc[(dataset['Age'] > 28) & (dataset['Age'] <= 34), 'Age'] = 3\n",
    "    dataset.loc[(dataset['Age'] > 34) & (dataset['Age'] <= 44), 'Age'] = 4\n",
    "    dataset.loc[ dataset['Age'] > 44, 'Age'] = 5\n",
    "    \n",
    "    dataset.loc[ dataset['Fare'] <= 7.98, 'Fare'] = 0\n",
    "    dataset.loc[(dataset['Fare'] > 7.98) & (dataset['Fare'] <= 10.5), 'Fare'] = 1\n",
    "    dataset.loc[(dataset['Fare'] > 10.5) & (dataset['Fare'] <= 19.5), 'Fare'] = 2\n",
    "    dataset.loc[(dataset['Fare'] > 19.5) & (dataset['Fare'] <= 33.0), 'Fare'] = 3\n",
    "    dataset.loc[(dataset['Fare'] > 33.0) & (dataset['Fare'] <= 110.22), 'Fare'] = 4\n",
    "    dataset.loc[ dataset['Fare'] > 110.22, 'Fare'] = 5\n",
    "\n",
    "train.head()"
   ]
  },
  {
   "cell_type": "markdown",
   "metadata": {},
   "source": [
    "1.4 Summarize SibSp (siblings / spouses) and Parch (Parents / children) columns to one: 'Family'<br>\n",
    "1.5 Higlight who is alone (create new column 'IsAlone') <br>\n",
    "1.6 Convert all the values to the INT type"
   ]
  },
  {
   "cell_type": "code",
   "execution_count": 7,
   "metadata": {},
   "outputs": [],
   "source": [
    "for dataset in combine:\n",
    "    dataset['FamilySize'] = dataset['SibSp'] + dataset['Parch'] + 1\n",
    "    dataset['IsAlone'] = 0\n",
    "    dataset.loc[dataset['FamilySize'] == 1, 'IsAlone'] = 1\n",
    "    dataset['Fare'] = dataset['Fare'].astype(int)\n",
    "    dataset['Age'] = dataset['Age'].astype(int)\n",
    "    dataset['Embarked'] = dataset['Embarked'].astype(int)\n",
    "    #dataset['Class*Age'] = dataset['Pclass'] * dataset['Age']\n",
    "\n",
    "\n",
    "train = train.drop(['SibSp', 'Parch','FareBand', 'AgeBand'], axis = 1)\n",
    "test = test.drop(['SibSp', 'Parch', 'SibSp', 'Parch'], axis = 1)"
   ]
  },
  {
   "cell_type": "markdown",
   "metadata": {},
   "source": [
    "1.6 Turn column 'PassengerId' to indexes:"
   ]
  },
  {
   "cell_type": "code",
   "execution_count": 8,
   "metadata": {},
   "outputs": [],
   "source": [
    "train.set_index('PassengerId', inplace=True)\n",
    "test.set_index('PassengerId', inplace=True)"
   ]
  },
  {
   "cell_type": "markdown",
   "metadata": {},
   "source": [
    "## **Data visualization**"
   ]
  },
  {
   "cell_type": "code",
   "execution_count": 9,
   "metadata": {},
   "outputs": [
    {
     "data": {
      "image/png": "[encoded data removed]",
      "text/plain": [
       "<matplotlib.figure.Figure at 0x7f2ab448b470>"
      ]
     },
     "metadata": {},
     "output_type": "display_data"
    },
    {
     "name": "stdout",
     "output_type": "stream",
     "text": [
      "             Pclass  Sex  Age  Fare  Embarked  FamilySize  IsAlone\n",
      "PassengerId                                                       \n",
      "1                 3    1    1     0         0           2        0\n",
      "2                 1    0    4     4         1           2        0\n",
      "3                 3    0    2     5         0           1        1\n",
      "             Pclass  Sex  Age  Fare  Embarked  FamilySize  IsAlone\n",
      "PassengerId                                                       \n",
      "892               3    1    4     0         2           1        1\n",
      "893               3    0    5     0         0           2        0\n",
      "894               2    1    5     1         2           1        1\n"
     ]
    }
   ],
   "source": [
    "train['Fare'].plot.hist(11)\n",
    "test['Fare'].plot.hist(11)\n",
    "plt.title('Histogram of Fare')\n",
    "plt.xlabel('$'); plt.ylabel('Passangers'); plt.show()\n",
    "\n",
    "print(train.head(3))\n",
    "print(test.head(3))"
   ]
  },
  {
   "cell_type": "markdown",
   "metadata": {},
   "source": [
    "## **Split dataset to Train and Validation set**"
   ]
  },
  {
   "cell_type": "code",
   "execution_count": 10,
   "metadata": {
    "collapsed": true
   },
   "outputs": [
    {
     "name": "stdout",
     "output_type": "stream",
     "text": [
      "0    0.616573\n",
      "1    0.383427\n",
      "Name: Survived, dtype: float64\n",
      "0    0.614525\n",
      "1    0.385475\n",
      "Name: Survived, dtype: float64\n"
     ]
    }
   ],
   "source": [
    "X_train, X_valid, Y_train, Y_valid = train_test_split(train, y,\n",
    "                                                      test_size=0.2,\n",
    "                                                      random_state=42,\n",
    "                                                      stratify = y)\n",
    "# Class relations\n",
    "print(Y_train.value_counts()/Y_train.count())\n",
    "print(Y_valid.value_counts()/Y_valid.count())"
   ]
  },
  {
   "cell_type": "markdown",
   "metadata": {},
   "source": [
    "## **Logistic Regression model**"
   ]
  },
  {
   "cell_type": "code",
   "execution_count": 11,
   "metadata": {},
   "outputs": [
    {
     "name": "stdout",
     "output_type": "stream",
     "text": [
      "CPU times: user 8.93 ms, sys: 143 µs, total: 9.08 ms\n",
      "Wall time: 13.4 ms\n",
      "\n",
      "Validation Accuracy:\t 81.006\n",
      "Train Accuracy:\t\t 80.197\n"
     ]
    }
   ],
   "source": [
    "model = LogisticRegression()\n",
    "%time model.fit(X_train, Y_train)\n",
    "Y_pred = model.predict(X_valid)\n",
    "model_acc = model.score(X_valid, Y_valid) * 100\n",
    "print('\\nValidation Accuracy:\\t', round(model_acc, 3))\n",
    "print('Train Accuracy:\\t\\t', round(model.score(X_train, Y_train) * 100, 3))"
   ]
  },
  {
   "cell_type": "markdown",
   "metadata": {},
   "source": [
    "#### ** Save result for the submission: **"
   ]
  },
  {
   "cell_type": "code",
   "execution_count": 12,
   "metadata": {},
   "outputs": [],
   "source": [
    "PredictedData = pd.DataFrame(model.predict(test),\n",
    "                             index=test.index.values,\n",
    "                             columns=['Survived'])\n",
    "PredictedData.index.name = 'PassengerId'\n",
    "PredictedData['Survived'].reset_index().to_csv('LogReg.csv', index = False)"
   ]
  },
  {
   "cell_type": "markdown",
   "metadata": {},
   "source": [
    "## **Support Vector Machines model**"
   ]
  },
  {
   "cell_type": "code",
   "execution_count": 13,
   "metadata": {
    "collapsed": true
   },
   "outputs": [
    {
     "name": "stdout",
     "output_type": "stream",
     "text": [
      "CPU times: user 47.4 ms, sys: 0 ns, total: 47.4 ms\n",
      "Wall time: 55.1 ms\n",
      "\n",
      "Validation Accuracy:\t 82.123\n",
      "Train Accuracy:\t\t 82.865\n"
     ]
    }
   ],
   "source": [
    "model = SVC()\n",
    "%time model.fit(X_train, Y_train)\n",
    "Y_pred = model.predict(X_valid)\n",
    "model_acc = model.score(X_valid, Y_valid) * 100\n",
    "print('\\nValidation Accuracy:\\t', round(model_acc, 3))\n",
    "print('Train Accuracy:\\t\\t', round(model.score(X_train, Y_train) * 100, 3))"
   ]
  },
  {
   "cell_type": "markdown",
   "metadata": {},
   "source": [
    "#### ** Save result for the submission: **"
   ]
  },
  {
   "cell_type": "code",
   "execution_count": 14,
   "metadata": {},
   "outputs": [],
   "source": [
    "PredictedData = pd.DataFrame(model.predict(test),\n",
    "                             index=test.index.values,\n",
    "                             columns=['Survived'])\n",
    "PredictedData.index.name = 'PassengerId'\n",
    "PredictedData['Survived'].reset_index().to_csv('SVM.csv', index = False)"
   ]
  },
  {
   "cell_type": "markdown",
   "metadata": {},
   "source": [
    "## **k-Nearest Neighbors algorithm (KNN)**"
   ]
  },
  {
   "cell_type": "code",
   "execution_count": 15,
   "metadata": {},
   "outputs": [
    {
     "name": "stdout",
     "output_type": "stream",
     "text": [
      "CPU times: user 3.43 ms, sys: 0 ns, total: 3.43 ms\n",
      "Wall time: 10.6 ms\n",
      "\n",
      "Validation Accuracy:\t 74.302\n",
      "Train Accuracy:\t\t 84.41\n"
     ]
    }
   ],
   "source": [
    "model = KNeighborsClassifier(n_neighbors = 5)\n",
    "%time model.fit(X_train, Y_train)\n",
    "Y_pred = model.predict(X_valid)\n",
    "model_acc = model.score(X_valid, Y_valid) * 100\n",
    "print('\\nValidation Accuracy:\\t', round(model_acc, 3))\n",
    "print('Train Accuracy:\\t\\t', round(model.score(X_train, Y_train) * 100, 3))"
   ]
  },
  {
   "cell_type": "markdown",
   "metadata": {},
   "source": [
    "#### ** Save result for the submission: **"
   ]
  },
  {
   "cell_type": "code",
   "execution_count": 16,
   "metadata": {},
   "outputs": [],
   "source": [
    "PredictedData = pd.DataFrame(model.predict(test),\n",
    "                             index=test.index.values,\n",
    "                             columns=['Survived'])\n",
    "PredictedData.index.name = 'PassengerId'\n",
    "PredictedData['Survived'].reset_index().to_csv('KNN.csv', index = False)"
   ]
  },
  {
   "cell_type": "markdown",
   "metadata": {},
   "source": [
    "## ** Random Forest **"
   ]
  },
  {
   "cell_type": "code",
   "execution_count": 17,
   "metadata": {},
   "outputs": [
    {
     "name": "stdout",
     "output_type": "stream",
     "text": [
      "CPU times: user 611 ms, sys: 18 ms, total: 629 ms\n",
      "Wall time: 880 ms\n",
      "\n",
      "Validation Accuracy:\t 81.56\n",
      "Train Accuracy:\t\t 90.309\n"
     ]
    }
   ],
   "source": [
    "model = RandomForestClassifier(n_estimators=100)\n",
    "%time model.fit(X_train, Y_train)\n",
    "Y_pred = model.predict(X_valid)\n",
    "model.score(X_train, Y_train)\n",
    "model_acc = round(model.score(X_valid, Y_valid) * 100, 2)\n",
    "print('\\nValidation Accuracy:\\t', round(model_acc, 3))\n",
    "print('Train Accuracy:\\t\\t', round(model.score(X_train, Y_train) * 100, 3))"
   ]
  },
  {
   "cell_type": "markdown",
   "metadata": {},
   "source": [
    "#### ** Save result for the submission: **"
   ]
  },
  {
   "cell_type": "code",
   "execution_count": 18,
   "metadata": {},
   "outputs": [],
   "source": [
    "PredictedData = pd.DataFrame(model.predict(test),\n",
    "                             index=test.index.values,\n",
    "                             columns=['Survived'])\n",
    "PredictedData.index.name = 'PassengerId'\n",
    "PredictedData['Survived'].reset_index().to_csv('RandForest.csv', index = False)"
   ]
  },
  {
   "cell_type": "markdown",
   "metadata": {},
   "source": [
    "## **Multi-Layer Perceptron Classifier model**"
   ]
  },
  {
   "cell_type": "code",
   "execution_count": 21,
   "metadata": {},
   "outputs": [],
   "source": [
    "from sklearn.neural_network import MLPClassifier"
   ]
  },
  {
   "cell_type": "code",
   "execution_count": 42,
   "metadata": {},
   "outputs": [
    {
     "name": "stdout",
     "output_type": "stream",
     "text": [
      "CPU times: user 1.36 s, sys: 3.36 ms, total: 1.37 s\n",
      "Wall time: 1.46 s\n"
     ]
    },
    {
     "ename": "AttributeError",
     "evalue": "'str' object has no attribute 'precision'",
     "output_type": "error",
     "traceback": [
      "\u001b[0;31m---------------------------------------------------------------------------\u001b[0m",
      "\u001b[0;31mAttributeError\u001b[0m                            Traceback (most recent call last)",
      "\u001b[0;32m<ipython-input-42-f21f0d4ded1f>\u001b[0m in \u001b[0;36m<module>\u001b[0;34m()\u001b[0m\n\u001b[1;32m      3\u001b[0m \u001b[0;34m\u001b[0m\u001b[0m\n\u001b[1;32m      4\u001b[0m \u001b[0mpredictions\u001b[0m \u001b[0;34m=\u001b[0m \u001b[0mmlp_model\u001b[0m\u001b[0;34m.\u001b[0m\u001b[0mpredict\u001b[0m\u001b[0;34m(\u001b[0m\u001b[0mX_valid\u001b[0m\u001b[0;34m)\u001b[0m\u001b[0;34m\u001b[0m\u001b[0m\n\u001b[0;32m----> 5\u001b[0;31m \u001b[0mprint\u001b[0m\u001b[0;34m(\u001b[0m\u001b[0mclassification_report\u001b[0m\u001b[0;34m(\u001b[0m\u001b[0mY_valid\u001b[0m\u001b[0;34m,\u001b[0m\u001b[0mpredictions\u001b[0m\u001b[0;34m)\u001b[0m\u001b[0;34m.\u001b[0m\u001b[0mprecision\u001b[0m\u001b[0;34m)\u001b[0m\u001b[0;34m\u001b[0m\u001b[0m\n\u001b[0m\u001b[1;32m      6\u001b[0m \u001b[0;34m\u001b[0m\u001b[0m\n\u001b[1;32m      7\u001b[0m \u001b[0mmodel_acc\u001b[0m \u001b[0;34m=\u001b[0m \u001b[0mround\u001b[0m\u001b[0;34m(\u001b[0m\u001b[0mmlp_model\u001b[0m\u001b[0;34m.\u001b[0m\u001b[0mscore\u001b[0m\u001b[0;34m(\u001b[0m\u001b[0mX_valid\u001b[0m\u001b[0;34m,\u001b[0m \u001b[0mY_valid\u001b[0m\u001b[0;34m)\u001b[0m \u001b[0;34m*\u001b[0m \u001b[0;36m100\u001b[0m\u001b[0;34m,\u001b[0m \u001b[0;36m2\u001b[0m\u001b[0;34m)\u001b[0m\u001b[0;34m\u001b[0m\u001b[0m\n",
      "\u001b[0;31mAttributeError\u001b[0m: 'str' object has no attribute 'precision'"
     ]
    }
   ],
   "source": [
    "mlp_model = MLPClassifier(hidden_layer_sizes=(13,13,13),max_iter=1000)\n",
    "%time mlp_model.fit(X_train,Y_train)\n",
    "\n",
    "predictions = mlp_model.predict(X_valid)\n",
    "print(classification_report(Y_valid,predictions).precision)\n",
    "\n",
    "model_acc = round(mlp_model.score(X_valid, Y_valid) * 100, 2)\n",
    "print('\\nValidation Accuracy:\\t', round(model_acc, 3))\n",
    "print('Train Accuracy:\\t\\t', round(model.score(X_train, Y_train) * 100, 3))"
   ]
  },
  {
   "cell_type": "code",
   "execution_count": 40,
   "metadata": {},
   "outputs": [],
   "source": [
    "PredictedData = pd.DataFrame(mlp_model.predict(test),\n",
    "                             index=test.index.values,\n",
    "                             columns=['Survived'])\n",
    "PredictedData.index.name = 'PassengerId'\n",
    "PredictedData['Survived'].reset_index().to_csv('MLPerceptron.csv', index = False)"
   ]
  },
  {
   "cell_type": "markdown",
   "metadata": {},
   "source": [
    "## ** K-fold Cross-validation **\n",
    "K-fold Cross-validation is a technique for model evaluation and model selection.\n",
    "##### Pros:\n",
    "    + Better estimate of out-of-sample performance than simple train/test split\n",
    "\n",
    "##### Cons:\n",
    "    - Runs \"K\" times slower than simple train/test split\n",
    "\n",
    "If we have **little data** and **enough time**, it's better to always do cross-validation for a more precise estimate of performance."
   ]
  },
  {
   "cell_type": "code",
   "execution_count": null,
   "metadata": {},
   "outputs": [],
   "source": [
    "# fit model \n",
    "from sklearn.model_selection import GridSearchCV\n",
    "\n",
    "#params = dict(classifier__C=[0.15, 0.25, 0.35])\n",
    "#print(params)\n",
    "#grid_search = GridSearchCV(pipeline, param_grid=params, cv=10)\n",
    "#X_train, Y_train\n",
    "#%time grid_search.fit(X_train, Y_train)"
   ]
  },
  {
   "cell_type": "code",
   "execution_count": null,
   "metadata": {},
   "outputs": [],
   "source": [
    "# Best parameters found:\n",
    "#grid_search.best_params_"
   ]
  },
  {
   "cell_type": "code",
   "execution_count": null,
   "metadata": {},
   "outputs": [],
   "source": [
    "# Average accuracy over K folds for best parameters set\n",
    "#print(\"Validation Accuracy\", grid_search.best_score_)"
   ]
  },
  {
   "cell_type": "markdown",
   "metadata": {},
   "source": [
    "### <a name=\"3.4\"></a>ROC AUC\n",
    "The ROC curve is created by plotting the true positive rate (TPR) against the false positive rate (FPR) at various threshold settings.\n",
    "\n",
    "More details here:\n",
    "http://scikit-learn.org/stable/auto_examples/model_selection/plot_roc.html\n",
    "\n",
    "///![](https://i.stack.imgur.com/5x3Xj.png)\n",
    "\n"
   ]
  }
 ],
 "metadata": {
  "anaconda-cloud": {},
  "kernelspec": {
   "display_name": "Python 3",
   "language": "python",
   "name": "python3"
  },
  "language_info": {
   "codemirror_mode": {
    "name": "ipython",
    "version": 3
   },
   "file_extension": ".py",
   "mimetype": "text/x-python",
   "name": "python",
   "nbconvert_exporter": "python",
   "pygments_lexer": "ipython3",
   "version": "3.5.2"
  }
 },
 "nbformat": 4,
 "nbformat_minor": 2
}
